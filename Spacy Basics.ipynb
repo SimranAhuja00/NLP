{
 "cells": [
  {
   "cell_type": "code",
   "execution_count": 1,
   "id": "a9843ced",
   "metadata": {},
   "outputs": [],
   "source": [
    "import spacy"
   ]
  },
  {
   "cell_type": "markdown",
   "id": "55afe303",
   "metadata": {},
   "source": [
    "# Loading the language library"
   ]
  },
  {
   "cell_type": "code",
   "execution_count": 2,
   "id": "d163be68",
   "metadata": {},
   "outputs": [],
   "source": [
    "nlp = spacy.load('en_core_web_sm')"
   ]
  },
  {
   "cell_type": "code",
   "execution_count": 3,
   "id": "511f798b",
   "metadata": {},
   "outputs": [],
   "source": [
    "doc = nlp(u\"Tesla's groundbreaking electric vehicles are not just transforming the automotive industry, but also driving us towards a greener and more sustainable future\")"
   ]
  },
  {
   "cell_type": "code",
   "execution_count": 4,
   "id": "a94b23c2",
   "metadata": {},
   "outputs": [
    {
     "data": {
      "text/plain": [
       "Tesla's groundbreaking electric vehicles are not just transforming the automotive industry, but also driving us towards a greener and more sustainable future"
      ]
     },
     "execution_count": 4,
     "metadata": {},
     "output_type": "execute_result"
    }
   ],
   "source": [
    "doc"
   ]
  },
  {
   "cell_type": "code",
   "execution_count": 5,
   "id": "8d65cfc6",
   "metadata": {},
   "outputs": [
    {
     "name": "stdout",
     "output_type": "stream",
     "text": [
      "Tesla\n",
      "'s\n",
      "groundbreaking\n",
      "electric\n",
      "vehicles\n",
      "are\n",
      "not\n",
      "just\n",
      "transforming\n",
      "the\n",
      "automotive\n",
      "industry\n",
      ",\n",
      "but\n",
      "also\n",
      "driving\n",
      "us\n",
      "towards\n",
      "a\n",
      "greener\n",
      "and\n",
      "more\n",
      "sustainable\n",
      "future\n"
     ]
    }
   ],
   "source": [
    "for token in doc:\n",
    "    print(token.text)"
   ]
  },
  {
   "cell_type": "code",
   "execution_count": 6,
   "id": "d401edd0",
   "metadata": {},
   "outputs": [
    {
     "name": "stdout",
     "output_type": "stream",
     "text": [
      "Tesla 96\n",
      "'s 94\n",
      "groundbreaking 84\n",
      "electric 84\n",
      "vehicles 92\n",
      "are 87\n",
      "not 94\n",
      "just 86\n",
      "transforming 100\n",
      "the 90\n",
      "automotive 84\n",
      "industry 92\n",
      ", 97\n",
      "but 89\n",
      "also 86\n",
      "driving 100\n",
      "us 95\n",
      "towards 85\n",
      "a 90\n",
      "greener 84\n",
      "and 89\n",
      "more 86\n",
      "sustainable 84\n",
      "future 92\n"
     ]
    }
   ],
   "source": [
    "for token in doc:\n",
    "    print(token.text, token.pos)"
   ]
  },
  {
   "cell_type": "code",
   "execution_count": 7,
   "id": "e45c58da",
   "metadata": {},
   "outputs": [
    {
     "name": "stdout",
     "output_type": "stream",
     "text": [
      "Tesla PROPN\n",
      "'s PART\n",
      "groundbreaking ADJ\n",
      "electric ADJ\n",
      "vehicles NOUN\n",
      "are AUX\n",
      "not PART\n",
      "just ADV\n",
      "transforming VERB\n",
      "the DET\n",
      "automotive ADJ\n",
      "industry NOUN\n",
      ", PUNCT\n",
      "but CCONJ\n",
      "also ADV\n",
      "driving VERB\n",
      "us PRON\n",
      "towards ADP\n",
      "a DET\n",
      "greener ADJ\n",
      "and CCONJ\n",
      "more ADV\n",
      "sustainable ADJ\n",
      "future NOUN\n"
     ]
    }
   ],
   "source": [
    "for token in doc:\n",
    "    print(token.text, token.pos_)"
   ]
  },
  {
   "cell_type": "code",
   "execution_count": 8,
   "id": "97e56da7",
   "metadata": {},
   "outputs": [
    {
     "data": {
      "text/plain": [
       "[('tok2vec', <spacy.pipeline.tok2vec.Tok2Vec at 0x13fa73e20>),\n",
       " ('tagger', <spacy.pipeline.tagger.Tagger at 0x13fc2c1c0>),\n",
       " ('parser', <spacy.pipeline.dep_parser.DependencyParser at 0x13f9813f0>),\n",
       " ('attribute_ruler',\n",
       "  <spacy.pipeline.attributeruler.AttributeRuler at 0x13fabd680>),\n",
       " ('lemmatizer', <spacy.lang.en.lemmatizer.EnglishLemmatizer at 0x13facc940>),\n",
       " ('ner', <spacy.pipeline.ner.EntityRecognizer at 0x13f9815b0>)]"
      ]
     },
     "execution_count": 8,
     "metadata": {},
     "output_type": "execute_result"
    }
   ],
   "source": [
    "nlp.pipeline"
   ]
  },
  {
   "cell_type": "code",
   "execution_count": 9,
   "id": "ee39d561",
   "metadata": {},
   "outputs": [
    {
     "data": {
      "text/plain": [
       "['tok2vec', 'tagger', 'parser', 'attribute_ruler', 'lemmatizer', 'ner']"
      ]
     },
     "execution_count": 9,
     "metadata": {},
     "output_type": "execute_result"
    }
   ],
   "source": [
    "nlp.pipe_names"
   ]
  },
  {
   "cell_type": "markdown",
   "id": "7ce30b41",
   "metadata": {},
   "source": [
    "# Can recognize sentences"
   ]
  },
  {
   "cell_type": "code",
   "execution_count": 10,
   "id": "5f3fde36",
   "metadata": {},
   "outputs": [],
   "source": [
    "sentences = nlp(u\"Hello everyone. Beautiful day today. Blue skies.\")"
   ]
  },
  {
   "cell_type": "code",
   "execution_count": 12,
   "id": "a6123d02",
   "metadata": {},
   "outputs": [
    {
     "name": "stdout",
     "output_type": "stream",
     "text": [
      "Hello everyone.\n",
      "Beautiful day today.\n",
      "Blue skies.\n"
     ]
    }
   ],
   "source": [
    "for sentence in sentences.sents:\n",
    "    print(sentence)"
   ]
  },
  {
   "cell_type": "code",
   "execution_count": 13,
   "id": "1d56ecdf",
   "metadata": {},
   "outputs": [
    {
     "data": {
      "text/plain": [
       "Hello"
      ]
     },
     "execution_count": 13,
     "metadata": {},
     "output_type": "execute_result"
    }
   ],
   "source": [
    "sentences[0]"
   ]
  },
  {
   "cell_type": "code",
   "execution_count": 14,
   "id": "6f19616f",
   "metadata": {},
   "outputs": [
    {
     "data": {
      "text/plain": [
       "True"
      ]
     },
     "execution_count": 14,
     "metadata": {},
     "output_type": "execute_result"
    }
   ],
   "source": [
    "sentences[0].is_sent_start"
   ]
  },
  {
   "cell_type": "code",
   "execution_count": 15,
   "id": "08f45a42",
   "metadata": {},
   "outputs": [
    {
     "data": {
      "text/plain": [
       "True"
      ]
     },
     "execution_count": 15,
     "metadata": {},
     "output_type": "execute_result"
    }
   ],
   "source": [
    "sentences[3].is_sent_start"
   ]
  },
  {
   "cell_type": "code",
   "execution_count": 16,
   "id": "d9dafc8c",
   "metadata": {},
   "outputs": [
    {
     "data": {
      "text/plain": [
       "False"
      ]
     },
     "execution_count": 16,
     "metadata": {},
     "output_type": "execute_result"
    }
   ],
   "source": [
    "sentences[1].is_sent_start"
   ]
  }
 ],
 "metadata": {
  "kernelspec": {
   "display_name": "Python 3 (ipykernel)",
   "language": "python",
   "name": "python3"
  },
  "language_info": {
   "codemirror_mode": {
    "name": "ipython",
    "version": 3
   },
   "file_extension": ".py",
   "mimetype": "text/x-python",
   "name": "python",
   "nbconvert_exporter": "python",
   "pygments_lexer": "ipython3",
   "version": "3.10.9"
  }
 },
 "nbformat": 4,
 "nbformat_minor": 5
}
